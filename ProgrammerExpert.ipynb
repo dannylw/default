{
 "cells": [
  {
   "cell_type": "markdown",
   "metadata": {},
   "source": [
    "Uploading Jupyter to github"
   ]
  },
  {
   "cell_type": "code",
   "execution_count": 5,
   "metadata": {},
   "outputs": [],
   "source": [
    "def Jupyter():\n",
    "    print(\"uploading to github\")\n",
    "    \n",
    "    return\n"
   ]
  },
  {
   "cell_type": "code",
   "execution_count": 6,
   "metadata": {},
   "outputs": [
    {
     "name": "stdout",
     "output_type": "stream",
     "text": [
      "uploading to github\n"
     ]
    }
   ],
   "source": [
    "Jupyter()\n"
   ]
  },
  {
   "cell_type": "code",
   "execution_count": 9,
   "metadata": {},
   "outputs": [
    {
     "name": "stdout",
     "output_type": "stream",
     "text": [
      "1 hi\n"
     ]
    }
   ],
   "source": [
    "a = 1\n",
    "B = \"hi\" \n",
    "print(a, B)"
   ]
  },
  {
   "cell_type": "code",
   "execution_count": 7,
   "metadata": {},
   "outputs": [
    {
     "name": "stdout",
     "output_type": "stream",
     "text": [
      "name?  HI\n",
      "Hi, HI\n"
     ]
    }
   ],
   "source": [
    "name = input(\"name?  \")\n",
    "print (\"Hi,\", name)"
   ]
  },
  {
   "cell_type": "code",
   "execution_count": 20,
   "metadata": {},
   "outputs": [
    {
     "name": "stdout",
     "output_type": "stream",
     "text": [
      "Press ENTER to begin\n",
      "What is your name? Lilly\n",
      "Greetings Lilly, what is your age? 5\n",
      "you are young\n"
     ]
    }
   ],
   "source": [
    "input(\"Press ENTER to begin\")\n",
    "name = input(\"What is your name? \")\n",
    "age = input(\"Greetings \" + name + \", what is your age? \")\n",
    "age = int(age)\n",
    "\n",
    "if age > 30:\n",
    "    print(\"you are getting old\")\n",
    "else: \n",
    "    print(\"you are young\")"
   ]
  },
  {
   "cell_type": "code",
   "execution_count": null,
   "metadata": {},
   "outputs": [],
   "source": []
  },
  {
   "cell_type": "code",
   "execution_count": null,
   "metadata": {},
   "outputs": [],
   "source": []
  }
 ],
 "metadata": {
  "kernelspec": {
   "display_name": "Python 3",
   "language": "python",
   "name": "python3"
  },
  "language_info": {
   "codemirror_mode": {
    "name": "ipython",
    "version": 3
   },
   "file_extension": ".py",
   "mimetype": "text/x-python",
   "name": "python",
   "nbconvert_exporter": "python",
   "pygments_lexer": "ipython3",
   "version": "3.8.5"
  }
 },
 "nbformat": 4,
 "nbformat_minor": 4
}
