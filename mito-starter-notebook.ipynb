{
 "cells": [
  {
   "cell_type": "code",
   "execution_count": 1,
   "id": "46e5442a-a0ac-4ff7-9f37-8661301729cb",
   "metadata": {},
   "outputs": [
    {
     "data": {
      "application/vnd.jupyter.widget-view+json": {
       "model_id": "447267cdddaa4f5187221ab626158026",
       "version_major": 2,
       "version_minor": 0
      },
      "text/plain": [
       "MitoWidget(analysis_data_json='{\"analysisName\": \"UUID-c1d18ade-9bf1-41de-a0a8-d1dc56e436b1\", \"code\": {\"imports…"
      ]
     },
     "metadata": {},
     "output_type": "display_data"
    }
   ],
   "source": [
    "# Run this cell to render a mitosheet\n",
    "# See mito's documentation here: https://docs.trymito.io/how-to/creating-a-mitosheet\n",
    "# Join our Discord for support here: https://discord.gg/XdJSZyejJU\n",
    "\n",
    "import mitosheet\n",
    "mitosheet.sheet()\n"
   ]
  },
  {
   "cell_type": "code",
   "execution_count": null,
   "id": "0bd13e7c-f8de-4bee-ae2f-5839b0969fbe",
   "metadata": {},
   "outputs": [],
   "source": [
    "from mitosheet import *; register_analysis('UUID-c1d18ade-9bf1-41de-a0a8-d1dc56e436b1')\n",
    "\n",
    "# Imported C:\\Users\\danny\\seaborn-data\\iris.csv\n",
    "import pandas as pd\n",
    "iris = pd.read_csv(r'C:\\Users\\danny\\seaborn-data\\iris.csv')\n",
    "\n",
    "# Sorted species in iris in ascending order\n",
    "iris = iris.sort_values(by='species', ascending=True, na_position='first')\n"
   ]
  },
  {
   "cell_type": "code",
   "execution_count": null,
   "id": "207a0492-f8fa-45a9-adbb-322f7fc68d19",
   "metadata": {},
   "outputs": [],
   "source": []
  },
  {
   "cell_type": "code",
   "execution_count": null,
   "id": "2855178e-d060-4cf7-8ade-7bc0c9273b0b",
   "metadata": {},
   "outputs": [],
   "source": []
  },
  {
   "cell_type": "code",
   "execution_count": null,
   "id": "3784e92f-ed64-4d79-843b-6380136510be",
   "metadata": {},
   "outputs": [],
   "source": []
  },
  {
   "cell_type": "code",
   "execution_count": null,
   "id": "c646c04c-cc30-4635-a02d-dcaa682cebbb",
   "metadata": {},
   "outputs": [],
   "source": []
  },
  {
   "cell_type": "code",
   "execution_count": null,
   "id": "d8b5e067-5a7b-4bca-b868-bbe74e81cabe",
   "metadata": {},
   "outputs": [],
   "source": []
  },
  {
   "cell_type": "code",
   "execution_count": null,
   "id": "1d698b65-11d6-429d-a98b-7873fca7fa9a",
   "metadata": {},
   "outputs": [],
   "source": []
  },
  {
   "cell_type": "code",
   "execution_count": null,
   "id": "ef53acd8-ded7-4cee-87b1-d088d4156df2",
   "metadata": {},
   "outputs": [],
   "source": []
  },
  {
   "cell_type": "code",
   "execution_count": null,
   "id": "fcf20b63-5ca2-4947-ae09-6a74d463c39e",
   "metadata": {},
   "outputs": [],
   "source": []
  },
  {
   "cell_type": "code",
   "execution_count": null,
   "id": "5dd783a5-8b5e-4a1e-9daf-86173bcd5f58",
   "metadata": {},
   "outputs": [],
   "source": []
  },
  {
   "cell_type": "code",
   "execution_count": null,
   "id": "f79570f3-cf56-48a8-a724-7a21a5c8b148",
   "metadata": {},
   "outputs": [],
   "source": []
  },
  {
   "cell_type": "code",
   "execution_count": null,
   "id": "4bbf0448-cc43-4a1b-817c-cf73bfb5732f",
   "metadata": {},
   "outputs": [],
   "source": []
  }
 ],
 "metadata": {
  "kernelspec": {
   "display_name": "Python 3",
   "language": "python",
   "name": "python3"
  },
  "language_info": {
   "codemirror_mode": {
    "name": "ipython",
    "version": 3
   },
   "file_extension": ".py",
   "mimetype": "text/x-python",
   "name": "python",
   "nbconvert_exporter": "python",
   "pygments_lexer": "ipython3",
   "version": "3.8.5"
  },
  "widgets": {
   "application/vnd.jupyter.widget-state+json": {
    "state": {},
    "version_major": 2,
    "version_minor": 0
   }
  }
 },
 "nbformat": 4,
 "nbformat_minor": 5
}
